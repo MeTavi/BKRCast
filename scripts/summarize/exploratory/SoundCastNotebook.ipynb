{
 "cells": [
  {
   "cell_type": "code",
   "execution_count": 2,
   "metadata": {
    "collapsed": false
   },
   "outputs": [],
   "source": [
    "import numpy as np\n",
    "import pandas as pd\n",
    "import xlsxwriter\n",
    "import time\n",
    "import h5toDF\n",
    "import xlautofit\n",
    "import math\n",
    "from summary_functions import *"
   ]
  },
  {
   "cell_type": "code",
   "execution_count": 3,
   "metadata": {
    "collapsed": false
   },
   "outputs": [],
   "source": [
    "#################################### WHERE ARE YOU RUNNING? ####################################\n",
    "model_dir = 'N:/soundcast_dev/'\n",
    "\n",
    "\n",
    "### OTHER PATHS. FOR A TYPICAL RUN, YOU DON'T HAVE TO CHANGE THESE ######################################\n",
    "h5_results_file = 'outputs/daysim_outputs.h5'\n",
    "h5_results_name = 'DaysimOutputs'\n",
    "h5_comparison_file = 'scripts/summarize/survey.h5'\n",
    "h5_comparison_name = 'Survey'\n",
    "guidefile = 'scripts/summarize/inputs/calibration/CatVarDict.xlsx'\n",
    "districtfile = 'scripts/summarize/inputs/calibration/TAZ_TAD_County.csv'\n",
    "report_output_location = 'outputs'\n",
    "\n",
    "output_parcels = 'inputs/buffered_parcels.dat'\n",
    "\n",
    "\n",
    "\n",
    "h5_results_file = model_dir + h5_results_file\n",
    "h5_comparison_file =  model_dir + h5_comparison_file\n",
    "guidefile = model_dir + guidefile\n",
    "districtfile = model_dir + districtfile\n",
    "report_output_location = 'outputs'\n"
   ]
  },
  {
   "cell_type": "code",
   "execution_count": 4,
   "metadata": {
    "collapsed": false
   },
   "outputs": [
    {
     "name": "stdout",
     "output_type": "stream",
     "text": [
      "---Begin DaysimOutputs conversion---\n",
      "Guide import complete\n",
      "Guide converted to dictionary in 0.0 seconds\n",
      "Household File import/recode complete in 0.9 seconds\n",
      "HouseholdDay File import/recode complete in 0.4 seconds\n",
      "Person File import/recode complete in 4.1 seconds\n",
      "PersonDay File import/recode complete in 1.7 seconds\n",
      "Tour File import/recode complete in 0.3 seconds\n",
      "Trip File import/recode complete in 0.4 seconds\n",
      "---DaysimOutputs import/recode complete in 8.1 seconds---\n",
      "---Begin Survey conversion---\n",
      "Guide import complete\n",
      "Guide converted to dictionary in 0.0 seconds\n",
      "WARNING: Negative Expansion Factor Present!\n",
      "Household File import/recode complete in 0.9 seconds\n",
      "WARNING: Negative Expansion Factor Present!\n",
      "HouseholdDay File import/recode complete in 0.6 seconds\n",
      "WARNING: Negative Expansion Factor Present!\n",
      "Person File import/recode complete in 2.2 seconds\n",
      "WARNING: Negative Expansion Factor Present!\n",
      "PersonDay File import/recode complete in 5.2 seconds\n",
      "WARNING: Negative Travel Time Present!\n",
      "WARNING: Negative Expansion Factor Present!\n",
      "Tour File import/recode complete in 7.3 seconds\n",
      "WARNING: Negative Travel Distance Present!\n",
      "WARNING: Negative Travel Time Present!\n",
      "WARNING: Negative Expansion Factor Present!\n",
      "Trip File import/recode complete in 17.1 seconds\n",
      "---Survey import/recode complete in 33.3 seconds---\n",
      "Negative expansion factors set to zero for Survey data\n"
     ]
    }
   ],
   "source": [
    "#READ IN YOUR DATA\n",
    "data1 = h5toDF.convert(h5_results_file,guidefile,h5_results_name)\n",
    "data2 = h5toDF.convert(h5_comparison_file,guidefile,h5_comparison_name)\n",
    "zone_district = pd.DataFrame.from_csv(districtfile, index_col = None)"
   ]
  },
  {
   "cell_type": "code",
   "execution_count": 5,
   "metadata": {
    "collapsed": false
   },
   "outputs": [],
   "source": [
    "trip_variables = ['otaz', 'dtaz', 'travtime', 'travcost', 'travdist', 'pno', 'mode', 'tour_id', 'opcl', 'dpcl', 'dorp']\n",
    "hh_variables = ['hhno', 'hhincome', 'hhvehs', 'hhtaz']\n",
    "person_variables = ['hhno', 'pno', 'pagey', 'pgend', 'id']"
   ]
  },
  {
   "cell_type": "code",
   "execution_count": 6,
   "metadata": {
    "collapsed": false
   },
   "outputs": [],
   "source": [
    "def get_variables_trips_model(output_df,trip_variables, hh_variables, person_variables):\n",
    "    trip_data = output_df['Trip'][trip_variables]\n",
    "    hh_data = output_df['Household'][hh_variables]\n",
    "    person_data = output_df['Person'][person_variables]\n",
    "    tour_data = output_df['Tour'][['hhno', 'pno', 'id']]\n",
    "    tour_data.rename(columns = {'id': 'tour_id'}, inplace = True)\n",
    "\n",
    "    merge_hh_person = pd.merge(hh_data, person_data, 'inner', on = 'hhno')\n",
    "    merge_hh_person.reset_index()\n",
    "    tour_data.reset_index()\n",
    "    merge_hh_tour = pd.merge(merge_hh_person, tour_data, 'inner', on =('hhno', 'pno'))\n",
    "    merge_trip_hh = pd.merge(merge_hh_tour, trip_data, 'outer', on= 'tour_id')\n",
    "    return merge_trip_hh  "
   ]
  },
  {
   "cell_type": "code",
   "execution_count": 7,
   "metadata": {
    "collapsed": false
   },
   "outputs": [
    {
     "name": "stderr",
     "output_type": "stream",
     "text": [
      "C:\\Anaconda\\lib\\site-packages\\pandas\\core\\frame.py:2417: SettingWithCopyWarning: \n",
      "A value is trying to be set on a copy of a slice from a DataFrame\n",
      "\n",
      "See the the caveats in the documentation: http://pandas.pydata.org/pandas-docs/stable/indexing.html#indexing-view-versus-copy\n",
      "  **kwargs)\n"
     ]
    }
   ],
   "source": [
    "trips_model = get_variables_trips_model(data1, trip_variables, hh_variables, person_variables)"
   ]
  },
  {
   "cell_type": "code",
   "execution_count": 9,
   "metadata": {
    "collapsed": false
   },
   "outputs": [],
   "source": [
    "loc_trips_model = pd.merge(trips_model, zone_district, left_on = 'hhtaz', right_on = 'TAZ')"
   ]
  },
  {
   "cell_type": "code",
   "execution_count": 8,
   "metadata": {
    "collapsed": false
   },
   "outputs": [
    {
     "data": {
      "text/plain": [
       "mode\n",
       "Bike            958\n",
       "HOV2          33633\n",
       "HOV3+         28187\n",
       "SOV           74395\n",
       "School Bus     4224\n",
       "Walk           5260\n",
       "Name: otaz, dtype: int64"
      ]
     },
     "execution_count": 8,
     "metadata": {},
     "output_type": "execute_result"
    }
   ],
   "source": [
    "trips_model.groupby('mode').count()['otaz']"
   ]
  },
  {
   "cell_type": "code",
   "execution_count": 10,
   "metadata": {
    "collapsed": false
   },
   "outputs": [],
   "source": [
    "v_trips_model = loc_trips_model.loc[(loc_trips_model['dorp']=='Driver')]"
   ]
  },
  {
   "cell_type": "code",
   "execution_count": 11,
   "metadata": {
    "collapsed": false
   },
   "outputs": [],
   "source": [
    "distances_county = v_trips_model.groupby('County').sum()"
   ]
  },
  {
   "cell_type": "code",
   "execution_count": 24,
   "metadata": {
    "collapsed": false
   },
   "outputs": [],
   "source": [
    "def get_variables_persons(output_df, hh_variables, person_variables):\n",
    "    \n",
    "    person_variables = ['hhno', 'pno', 'pagey', 'pgend']\n",
    "    hh_variables = ['hhno', 'hhincome', 'hhvehs', 'hhtaz', 'hhexpfac']\n",
    "    hh_data = output_df['Household'][hh_variables]\n",
    "    person_data = output_df['Person'][person_variables]\n",
    "\n",
    "    merge_hh_person = pd.merge(hh_data, person_data, 'inner', on = 'hhno')\n",
    "    merge_hh_person.reset_index()\n",
    "\n",
    "    return merge_hh_person"
   ]
  },
  {
   "cell_type": "code",
   "execution_count": 25,
   "metadata": {
    "collapsed": false
   },
   "outputs": [],
   "source": [
    "people_model = get_variables_persons(data1, hh_variables, person_variables)"
   ]
  },
  {
   "cell_type": "code",
   "execution_count": 26,
   "metadata": {
    "collapsed": false
   },
   "outputs": [],
   "source": [
    "loc_peeps_model = pd.merge(people_model, zone_district, left_on = 'hhtaz', right_on = 'TAZ')"
   ]
  },
  {
   "cell_type": "code",
   "execution_count": 15,
   "metadata": {
    "collapsed": false
   },
   "outputs": [],
   "source": [
    "people_county = loc_peeps_model.groupby('County').count()"
   ]
  },
  {
   "cell_type": "code",
   "execution_count": 16,
   "metadata": {
    "collapsed": false
   },
   "outputs": [],
   "source": [
    "people_county['hhno'].to_clipboard()"
   ]
  },
  {
   "cell_type": "code",
   "execution_count": 30,
   "metadata": {
    "collapsed": true
   },
   "outputs": [],
   "source": [
    "people_survey = get_variables_persons(data2, hh_variables, person_variables)"
   ]
  },
  {
   "cell_type": "code",
   "execution_count": 31,
   "metadata": {
    "collapsed": false
   },
   "outputs": [],
   "source": [
    "people_county = pd.merge(people_survey, zone_district, left_on = 'hhtaz', right_on = 'TAZ')"
   ]
  },
  {
   "cell_type": "code",
   "execution_count": 32,
   "metadata": {
    "collapsed": false
   },
   "outputs": [],
   "source": [
    "people_county = people_county.groupby('County').sum()"
   ]
  },
  {
   "cell_type": "code",
   "execution_count": 34,
   "metadata": {
    "collapsed": false
   },
   "outputs": [],
   "source": [
    "people_county['hhexpfac'].to_clipboard()"
   ]
  },
  {
   "cell_type": "code",
   "execution_count": 5,
   "metadata": {
    "collapsed": false
   },
   "outputs": [],
   "source": [
    "trip_variables = ['otaz', 'dtaz', 'travtime', 'travcost', 'travdist', 'pno', 'mode',  'opcl', 'dpcl', 'dorp', 'hhno', 'trexpfac']\n",
    "hh_variables = ['hhno', 'hhincome', 'hhvehs', 'hhtaz', 'hhexpfac']\n",
    "person_variables = ['hhno', 'pno', 'pagey', 'pgend', 'id']"
   ]
  },
  {
   "cell_type": "code",
   "execution_count": 6,
   "metadata": {
    "collapsed": false
   },
   "outputs": [],
   "source": [
    "def get_variables_trips_survey(output_df,trip_variables, hh_variables):\n",
    "    trip_data = output_df['Trip'][trip_variables]\n",
    "    hh_data = output_df['Household'][hh_variables]\n",
    "\n",
    "    merge_trip_hh = pd.merge(trip_data, hh_data, on = 'hhno')\n",
    "    return merge_trip_hh"
   ]
  },
  {
   "cell_type": "code",
   "execution_count": 8,
   "metadata": {
    "collapsed": false
   },
   "outputs": [],
   "source": [
    "trips_survey = get_variables_trips(data2, trip_variables, hh_variables)"
   ]
  },
  {
   "cell_type": "code",
   "execution_count": 9,
   "metadata": {
    "collapsed": false
   },
   "outputs": [],
   "source": [
    "v_trips_survey =trips_survey.loc[(trips_survey['dorp']== 'Driver')]"
   ]
  },
  {
   "cell_type": "code",
   "execution_count": 10,
   "metadata": {
    "collapsed": false
   },
   "outputs": [],
   "source": [
    "v_trips_survey_loc= pd.merge(v_trips_survey, zone_district, left_on = 'hhtaz', right_on = 'TAZ')"
   ]
  },
  {
   "cell_type": "code",
   "execution_count": 11,
   "metadata": {
    "collapsed": false
   },
   "outputs": [],
   "source": [
    "v_trips_survey_loc['weighted_dist'] = v_trips_survey_loc['travdist']*v_trips_survey_loc['trexpfac']"
   ]
  },
  {
   "cell_type": "code",
   "execution_count": 13,
   "metadata": {
    "collapsed": false
   },
   "outputs": [],
   "source": [
    "v_trips_survey_loc.groupby('County').sum()['weighted_dist'].to_clipboard()"
   ]
  },
  {
   "cell_type": "code",
   "execution_count": null,
   "metadata": {
    "collapsed": false
   },
   "outputs": [],
   "source": []
  }
 ],
 "metadata": {
  "kernelspec": {
   "display_name": "Python 2",
   "language": "python",
   "name": "python2"
  },
  "language_info": {
   "codemirror_mode": {
    "name": "ipython",
    "version": 2
   },
   "file_extension": ".py",
   "mimetype": "text/x-python",
   "name": "python",
   "nbconvert_exporter": "python",
   "pygments_lexer": "ipython2",
   "version": "2.7.9"
  }
 },
 "nbformat": 4,
 "nbformat_minor": 0
}
